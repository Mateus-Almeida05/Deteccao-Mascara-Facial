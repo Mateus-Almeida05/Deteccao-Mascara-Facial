{
  "nbformat": 4,
  "nbformat_minor": 0,
  "metadata": {
    "colab": {
      "provenance": []
    },
    "kernelspec": {
      "name": "python3",
      "display_name": "Python 3"
    },
    "language_info": {
      "name": "python"
    }
  },
  "cells": [
    {
      "cell_type": "markdown",
      "source": [
        "**Detector de Máscara**"
      ],
      "metadata": {
        "id": "i-K3vlfzMbSh"
      }
    },
    {
      "cell_type": "markdown",
      "source": [
        "Esse código é um exemplo de aplicação prática de visão computacional usando OpenCV e um modelo de deep learning treinado em Keras para detecção de máscara facial.\n",
        "\n",
        "O código acessa a webcam, detecta rostos usando Haar Cascade, recorta e pré-processa cada face e passa pela rede neural treinada (mask_detector.h5). Em tempo real, ele exibe se a pessoa está com máscara (verde) ou sem máscara (vermelho), junto com a probabilidade da predição.\n",
        "\n",
        "O arquivo com extensão .h5 é um formato HDF5 (Hierarchical Data Format v5), usado para armazenar modelos treinados em Keras/TensorFlow. Ele funciona como um \"pacote\" que guarda tanto a arquitetura da rede neural quanto os pesos aprendidos durante o treinamento.\n",
        "\n",
        "No contexto de projetos como o de detecção de máscara facial, o .h5 é essencial porque contém:\n",
        "\n",
        "   - Arquitetura do modelo → descreve as camadas (Dense, Convolutional, etc.), funções de ativação e conexões entre elas.\n",
        "\n",
        "   - Pesos treinados → os parâmetros que a rede ajustou durante o treinamento, responsáveis por reconhecer padrões nas imagens.\n",
        "\n",
        "   - Configurações adicionais → como função de perda (loss function), otimizador e métricas.\n",
        "\n",
        "Na prática: Em vez de treinar a rede toda vez, basta carregar o arquivo .h5 já treinado."
      ],
      "metadata": {
        "id": "MQ_3FMdLT6nl"
      }
    },
    {
      "cell_type": "code",
      "execution_count": null,
      "metadata": {
        "id": "rSQ5Vz_b5dn-"
      },
      "outputs": [],
      "source": [
        "#Importações\n",
        "import cv2\n",
        "import numpy as np\n",
        "from tensorflow.keras.models import load_model\n",
        "\n",
        "#Carrega o modelo treinado\n",
        "cnn = load_model(\"mask_detector.h5\")\n",
        "\n",
        "#Ajuste dos labels (este modelo pode usar 0 = Mask, 1 = No Mask)\n",
        "labels_dict = {0: 'Mask', 1: 'No Mask'}\n",
        "color_dict = {0: (0, 255, 0), 1: (0, 0, 255)}  # Verde = máscara, Vermelho = sem máscara\n",
        "\n",
        "#Configuração da câmera e detector de rosto\n",
        "imgsize = 4\n",
        "camera = cv2.VideoCapture(0)\n",
        "\n",
        "classifier = cv2.CascadeClassifier(cv2.data.haarcascades + 'haarcascade_frontalface_default.xml')\n",
        "\n",
        "print(\"▶ Webcam ligada. Pressione ESC para sair.\")\n",
        "\n",
        "#Loop de captura de vídeo\n",
        "while True:\n",
        "    (rval, im) = camera.read()\n",
        "    if not rval:\n",
        "        print(\"❌ Não foi possível acessar a webcam.\")\n",
        "        break\n",
        "\n",
        "    #Detecção de rostos\n",
        "    im = cv2.flip(im, 1, 1)\n",
        "    imgs = cv2.resize(im, (im.shape[1] // imgsize, im.shape[0] // imgsize))\n",
        "    face_rec = classifier.detectMultiScale(imgs)\n",
        "\n",
        "    for i in face_rec:\n",
        "        (x, y, l, w) = [v * imgsize for v in i]\n",
        "        face_img = im[y:y+w, x:x+l]\n",
        "\n",
        "        # Pré-processamento (224x224, normalizado)\n",
        "        resized = cv2.resize(face_img, (224, 224))\n",
        "        normalized = resized.astype(\"float32\") / 255.0\n",
        "        reshaped = np.reshape(normalized, (1, 224, 224, 3))\n",
        "\n",
        "        # Predição\n",
        "        result = cnn.predict(reshaped, verbose=0)\n",
        "        label = np.argmax(result, axis=1)[0]\n",
        "        prob = np.max(result) * 100  # pega a maior probabilidade\n",
        "\n",
        "        # Desenho na imagem\n",
        "        cv2.rectangle(im, (x, y), (x+l, y+w), color_dict[label], 2)\n",
        "        cv2.rectangle(im, (x, y-40), (x+l, y), color_dict[label], -1)\n",
        "\n",
        "        text = f\"{labels_dict[label]} ({prob:.1f}%)\"\n",
        "        cv2.putText(im, text, (x, y-10),\n",
        "                    cv2.FONT_HERSHEY_SIMPLEX, 0.8, (255, 255, 255), 2)\n",
        "\n",
        "    #Exibir janela de vídeo\n",
        "    cv2.imshow('LIVE', im)\n",
        "\n",
        "    #Encerramento\n",
        "    key = cv2.waitKey(10)\n",
        "    if key == 27:  # ESC\n",
        "        print(\"👋 Encerrando...\")\n",
        "        break\n",
        "\n",
        "camera.release()\n",
        "cv2.destroyAllWindows()"
      ]
    },
    {
      "cell_type": "markdown",
      "source": [
        "O projeto desenvolvido demonstra de forma eficaz a aplicação prática de técnicas de visão computacional e aprendizado profundo para a detecção automática do uso de máscaras faciais em tempo real. A integração entre o modelo treinado em deep learning e a captura de vídeo via webcam permitiu uma análise instantânea e precisa, identificando se o usuário está ou não utilizando máscara.\n",
        "\n",
        "O sistema apresentou bom desempenho mesmo em hardware limitado, graças à eficiência do modelo e à utilização otimizada dos recursos computacionais. O feedback visual, baseado em cores e probabilidades, tornou a interface intuitiva e de fácil interpretação pelo usuário."
      ],
      "metadata": {
        "id": "ifomUkOVk5N_"
      }
    }
  ]
}